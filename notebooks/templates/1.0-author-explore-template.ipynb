{
 "cells": [
  {
   "cell_type": "markdown",
   "metadata": {
    "toc-hr-collapsed": false
   },
   "source": [
    "<img style=\"margin-left:0px;\" src=\"http://www.radixeng.com.br/images/logos/radix-logo-completo.png\">\n",
    "<br>\n",
    "\n",
    "# Template para Exploração.\n",
    "\n",
    "<h4> Notebook destinado a...</h4>"
   ]
  },
  {
   "cell_type": "markdown",
   "metadata": {
    "toc-hr-collapsed": false
   },
   "source": [
    "## Import do Python"
   ]
  },
  {
   "cell_type": "code",
   "execution_count": 1,
   "metadata": {},
   "outputs": [
    {
     "data": {
      "text/html": [
       "<style src='https://stackpath.bootstrapcdn.com/bootstrap/4.3.1/css/bootstrap.min.css'></style>"
      ],
      "text/plain": [
       "<IPython.core.display.HTML object>"
      ]
     },
     "metadata": {},
     "output_type": "display_data"
    },
    {
     "data": {
      "text/html": [
       "<script src='https://stackpath.bootstrapcdn.com/bootstrap/4.3.1/js/bootstrap.min.js'></script>"
      ],
      "text/plain": [
       "<IPython.core.display.HTML object>"
      ]
     },
     "metadata": {},
     "output_type": "display_data"
    },
    {
     "data": {
      "text/html": [
       "<style>\n",
       "h1, h2, h3, h4, h5, h6 {\n",
       "    color: #222;\n",
       "    font-weight: 600;\n",
       "    line-height: 1.3;\n",
       "}\n",
       "\n",
       "h2 {\n",
       "    margin-top: 1.3em;\n",
       "}\n",
       "\n",
       "a {\n",
       "    color: #0083e8;\n",
       "}\n",
       "\n",
       ".list{\n",
       "    color: black !important;\n",
       "    font-size: 20px;    \n",
       "}\n",
       "\n",
       ".title{\n",
       "    color: black !important;\n",
       "    font-size: 15px;\n",
       "    font-weight: 500;\n",
       "}\n",
       "\n",
       ".value{\n",
       "    color: black !important;\n",
       "    font-size: 14px;\n",
       "    \n",
       "}</style>"
      ],
      "text/plain": [
       "<IPython.core.display.HTML object>"
      ]
     },
     "metadata": {},
     "output_type": "display_data"
    }
   ],
   "source": [
    "%load_ext autoreload\n",
    "%autoreload 2\n",
    "import matplotlib.pyplot as plt\n",
    "from mpl_toolkits.mplot3d import Axes3D\n",
    "from IPython.display import display, Markdown, Latex,HTML\n",
    "from urllib.request import urlopen\n",
    "\n",
    "import sys\n",
    "sys.path.append(\"../../\")\n",
    "\n",
    "import pandas as pd\n",
    "pd.options.display.max_columns = None\n",
    "import numpy as np\n",
    "from dateutil.parser import parse\n",
    "\n",
    "#Internal -- imports\n",
    "from src.models import load_crm,split_users_bot_human,sms_clusterization\n",
    "from src.visualization import *\n",
    "from src.visualization.html_visualization import *\n",
    "from src.data.nota_servico_dataset import *\n",
    "from src.data.servico_dataset import *\n",
    "\n",
    "html = open(\"../custom_files/style.css\", \"r\")\n",
    "display(HTML(\"<style>\\n\" + \"\".join(html.readlines()) + \"</style>\"))\n",
    "display(HTML(\"<style src='https://stackpath.bootstrapcdn.com/bootstrap/4.3.1/css/bootstrap.min.css'></style>\"))\n",
    "display(HTML(\"<script src='https://stackpath.bootstrapcdn.com/bootstrap/4.3.1/js/bootstrap.min.js'></script>\"))"
   ]
  },
  {
   "cell_type": "code",
   "execution_count": null,
   "metadata": {},
   "outputs": [],
   "source": []
  }
 ],
 "metadata": {
  "kernelspec": {
   "display_name": "Python 3",
   "language": "python",
   "name": "python3"
  },
  "language_info": {
   "codemirror_mode": {
    "name": "ipython",
    "version": 3
   },
   "file_extension": ".py",
   "mimetype": "text/x-python",
   "name": "python",
   "nbconvert_exporter": "python",
   "pygments_lexer": "ipython3",
   "version": "3.7.3"
  },
  "toc-autonumbering": true,
  "toc-showcode": false,
  "toc-showmarkdowntxt": false
 },
 "nbformat": 4,
 "nbformat_minor": 4
}
